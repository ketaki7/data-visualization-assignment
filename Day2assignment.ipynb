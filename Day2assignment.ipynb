{
  "nbformat": 4,
  "nbformat_minor": 0,
  "metadata": {
    "colab": {
      "name": "Day2assignment.ipynb",
      "provenance": [],
      "collapsed_sections": [],
      "authorship_tag": "ABX9TyPnGU6c28E0afabmWsVDH8A"
    },
    "kernelspec": {
      "name": "python3",
      "display_name": "Python 3"
    },
    "language_info": {
      "name": "python"
    }
  },
  "cells": [
    {
      "cell_type": "markdown",
      "metadata": {
        "id": "0YjWfPW1xyMa"
      },
      "source": [
        "#Assignment no 2"
      ]
    },
    {
      "cell_type": "code",
      "metadata": {
        "id": "7_YA2su-x1VD"
      },
      "source": [
        "import numpy as np\n",
        "import matplotlib.pyplot as plt\n",
        "import pandas as pd\n",
        "%matplotlib inline\n",
        "import seaborn as sns\n",
        "from numpy.random import randn, randint,uniform,sample\n"
      ],
      "execution_count": 1,
      "outputs": []
    },
    {
      "cell_type": "code",
      "metadata": {
        "colab": {
          "base_uri": "https://localhost:8080/",
          "height": 359
        },
        "id": "5lTYlSqoyATl",
        "outputId": "540a6c0e-bec0-4736-d297-9b220faa1a46"
      },
      "source": [
        "df=pd.DataFrame(randn(10,4),columns=['a','b','c','d'])\n",
        "df"
      ],
      "execution_count": 9,
      "outputs": [
        {
          "output_type": "execute_result",
          "data": {
            "text/html": [
              "<div>\n",
              "<style scoped>\n",
              "    .dataframe tbody tr th:only-of-type {\n",
              "        vertical-align: middle;\n",
              "    }\n",
              "\n",
              "    .dataframe tbody tr th {\n",
              "        vertical-align: top;\n",
              "    }\n",
              "\n",
              "    .dataframe thead th {\n",
              "        text-align: right;\n",
              "    }\n",
              "</style>\n",
              "<table border=\"1\" class=\"dataframe\">\n",
              "  <thead>\n",
              "    <tr style=\"text-align: right;\">\n",
              "      <th></th>\n",
              "      <th>a</th>\n",
              "      <th>b</th>\n",
              "      <th>c</th>\n",
              "      <th>d</th>\n",
              "    </tr>\n",
              "  </thead>\n",
              "  <tbody>\n",
              "    <tr>\n",
              "      <th>0</th>\n",
              "      <td>0.101744</td>\n",
              "      <td>1.251577</td>\n",
              "      <td>0.429216</td>\n",
              "      <td>0.699222</td>\n",
              "    </tr>\n",
              "    <tr>\n",
              "      <th>1</th>\n",
              "      <td>0.691817</td>\n",
              "      <td>1.635868</td>\n",
              "      <td>1.274453</td>\n",
              "      <td>-1.170043</td>\n",
              "    </tr>\n",
              "    <tr>\n",
              "      <th>2</th>\n",
              "      <td>-0.175690</td>\n",
              "      <td>1.691239</td>\n",
              "      <td>0.187851</td>\n",
              "      <td>-0.473244</td>\n",
              "    </tr>\n",
              "    <tr>\n",
              "      <th>3</th>\n",
              "      <td>0.876032</td>\n",
              "      <td>-0.537781</td>\n",
              "      <td>-0.787193</td>\n",
              "      <td>0.807345</td>\n",
              "    </tr>\n",
              "    <tr>\n",
              "      <th>4</th>\n",
              "      <td>0.048680</td>\n",
              "      <td>-0.490693</td>\n",
              "      <td>1.583930</td>\n",
              "      <td>-1.257624</td>\n",
              "    </tr>\n",
              "    <tr>\n",
              "      <th>5</th>\n",
              "      <td>-0.124881</td>\n",
              "      <td>-0.749195</td>\n",
              "      <td>0.819137</td>\n",
              "      <td>0.152813</td>\n",
              "    </tr>\n",
              "    <tr>\n",
              "      <th>6</th>\n",
              "      <td>-0.463370</td>\n",
              "      <td>0.614798</td>\n",
              "      <td>0.936560</td>\n",
              "      <td>0.497207</td>\n",
              "    </tr>\n",
              "    <tr>\n",
              "      <th>7</th>\n",
              "      <td>-0.101511</td>\n",
              "      <td>0.582044</td>\n",
              "      <td>0.093370</td>\n",
              "      <td>1.103722</td>\n",
              "    </tr>\n",
              "    <tr>\n",
              "      <th>8</th>\n",
              "      <td>0.158629</td>\n",
              "      <td>-0.408267</td>\n",
              "      <td>0.944347</td>\n",
              "      <td>-0.872311</td>\n",
              "    </tr>\n",
              "    <tr>\n",
              "      <th>9</th>\n",
              "      <td>0.161990</td>\n",
              "      <td>-1.684888</td>\n",
              "      <td>1.602244</td>\n",
              "      <td>-0.144668</td>\n",
              "    </tr>\n",
              "  </tbody>\n",
              "</table>\n",
              "</div>"
            ],
            "text/plain": [
              "          a         b         c         d\n",
              "0  0.101744  1.251577  0.429216  0.699222\n",
              "1  0.691817  1.635868  1.274453 -1.170043\n",
              "2 -0.175690  1.691239  0.187851 -0.473244\n",
              "3  0.876032 -0.537781 -0.787193  0.807345\n",
              "4  0.048680 -0.490693  1.583930 -1.257624\n",
              "5 -0.124881 -0.749195  0.819137  0.152813\n",
              "6 -0.463370  0.614798  0.936560  0.497207\n",
              "7 -0.101511  0.582044  0.093370  1.103722\n",
              "8  0.158629 -0.408267  0.944347 -0.872311\n",
              "9  0.161990 -1.684888  1.602244 -0.144668"
            ]
          },
          "metadata": {
            "tags": []
          },
          "execution_count": 9
        }
      ]
    },
    {
      "cell_type": "code",
      "metadata": {
        "colab": {
          "base_uri": "https://localhost:8080/",
          "height": 279
        },
        "id": "EYvb2Ma7yiv6",
        "outputId": "16404ddc-543b-4a86-c171-4e446769545e"
      },
      "source": [
        "df['a'].plot(kind=\"bar\")\n"
      ],
      "execution_count": 10,
      "outputs": [
        {
          "output_type": "execute_result",
          "data": {
            "text/plain": [
              "<matplotlib.axes._subplots.AxesSubplot at 0x7f9fb9edcc50>"
            ]
          },
          "metadata": {
            "tags": []
          },
          "execution_count": 10
        },
        {
          "output_type": "display_data",
          "data": {
            "image/png": "[encoded data removed]",
            "text/plain": [
              "<Figure size 432x288 with 1 Axes>"
            ]
          },
          "metadata": {
            "tags": [],
            "needs_background": "light"
          }
        }
      ]
    },
    {
      "cell_type": "code",
      "metadata": {
        "colab": {
          "base_uri": "https://localhost:8080/",
          "height": 279
        },
        "id": "WjSHIiGGzrzO",
        "outputId": "b939c639-6e87-46ba-8eee-de49fd1009ec"
      },
      "source": [
        "df['b'].plot(kind=\"bar\")\n"
      ],
      "execution_count": 11,
      "outputs": [
        {
          "output_type": "execute_result",
          "data": {
            "text/plain": [
              "<matplotlib.axes._subplots.AxesSubplot at 0x7f9fb9e76b90>"
            ]
          },
          "metadata": {
            "tags": []
          },
          "execution_count": 11
        },
        {
          "output_type": "display_data",
          "data": {
            "image/png": "[encoded data removed]",
            "text/plain": [
              "<Figure size 432x288 with 1 Axes>"
            ]
          },
          "metadata": {
            "tags": [],
            "needs_background": "light"
          }
        }
      ]
    },
    {
      "cell_type": "code",
      "metadata": {
        "colab": {
          "base_uri": "https://localhost:8080/",
          "height": 279
        },
        "id": "ouWy0HUpzvg_",
        "outputId": "5f8a0323-2bba-45b4-ff05-14b44c16338b"
      },
      "source": [
        "df['c'].plot(kind=\"bar\")\n"
      ],
      "execution_count": 12,
      "outputs": [
        {
          "output_type": "execute_result",
          "data": {
            "text/plain": [
              "<matplotlib.axes._subplots.AxesSubplot at 0x7f9fb9e86a50>"
            ]
          },
          "metadata": {
            "tags": []
          },
          "execution_count": 12
        },
        {
          "output_type": "display_data",
          "data": {
            "image/png": "[encoded data removed]",
            "text/plain": [
              "<Figure size 432x288 with 1 Axes>"
            ]
          },
          "metadata": {
            "tags": [],
            "needs_background": "light"
          }
        }
      ]
    },
    {
      "cell_type": "code",
      "metadata": {
        "colab": {
          "base_uri": "https://localhost:8080/",
          "height": 279
        },
        "id": "hjXsvAYrzyzr",
        "outputId": "6a83faa4-5a22-453f-8879-e6ab5b6d50b1"
      },
      "source": [
        "df['d'].plot(kind=\"bar\")\n"
      ],
      "execution_count": 13,
      "outputs": [
        {
          "output_type": "execute_result",
          "data": {
            "text/plain": [
              "<matplotlib.axes._subplots.AxesSubplot at 0x7f9fb9d93510>"
            ]
          },
          "metadata": {
            "tags": []
          },
          "execution_count": 13
        },
        {
          "output_type": "display_data",
          "data": {
            "image/png": "[encoded data removed]",
            "text/plain": [
              "<Figure size 432x288 with 1 Axes>"
            ]
          },
          "metadata": {
            "tags": [],
            "needs_background": "light"
          }
        }
      ]
    }
  ]
}